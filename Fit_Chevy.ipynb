{
 "cells": [
  {
   "cell_type": "code",
   "execution_count": 1,
   "id": "d83b2104-2413-465a-8ae5-6d25244cfe4e",
   "metadata": {},
   "outputs": [
    {
     "name": "stdout",
     "output_type": "stream",
     "text": [
      "Intel MKL WARNING: Support of Intel(R) Streaming SIMD Extensions 4.2 (Intel(R) SSE4.2) enabled only processors has been deprecated. Intel oneAPI Math Kernel Library 2025.0 will require Intel(R) Advanced Vector Extensions (Intel(R) AVX) instructions.\n",
      "Intel MKL WARNING: Support of Intel(R) Streaming SIMD Extensions 4.2 (Intel(R) SSE4.2) enabled only processors has been deprecated. Intel oneAPI Math Kernel Library 2025.0 will require Intel(R) Advanced Vector Extensions (Intel(R) AVX) instructions.\n"
     ]
    }
   ],
   "source": [
    "import numpy as np\n",
    "import pandas as pd\n",
    "import matplotlib.pyplot as plt\n",
    "from utils import *\n",
    "import scipy.optimize as opt\n",
    "from Common_functions import *\n",
    "from tqdm import tqdm\n",
    "from matplotlib.colors import ListedColormap\n"
   ]
  },
  {
   "cell_type": "code",
   "execution_count": 2,
   "id": "42ab4e7f-c0a4-4d24-ad95-4fedc0fcc698",
   "metadata": {},
   "outputs": [],
   "source": [
    "path = '/Users/somayeh/Library/Mobile Documents/com~apple~CloudDocs/Research/Microlensing_Harvard/'"
   ]
  },
  {
   "cell_type": "code",
   "execution_count": 3,
   "id": "cd34173e-918c-4297-b4a5-28a6f30d0548",
   "metadata": {},
   "outputs": [
    {
     "name": "stderr",
     "output_type": "stream",
     "text": [
      "9000it [00:00, 75115.73it/s]\n"
     ]
    }
   ],
   "source": [
    "data, labels, IDs = select_points_roman(path,\n",
    "                                        n_days = 5, \n",
    "                                        thresh_mag = 1.03,\n",
    "                                        cadence = 15/(60*24))"
   ]
  },
  {
   "cell_type": "code",
   "execution_count": null,
   "id": "eb346c14-5c2b-46c8-852c-07381a242349",
   "metadata": {},
   "outputs": [],
   "source": []
  }
 ],
 "metadata": {
  "kernelspec": {
   "display_name": "Python 3 (ipykernel)",
   "language": "python",
   "name": "python3"
  },
  "language_info": {
   "codemirror_mode": {
    "name": "ipython",
    "version": 3
   },
   "file_extension": ".py",
   "mimetype": "text/x-python",
   "name": "python",
   "nbconvert_exporter": "python",
   "pygments_lexer": "ipython3",
   "version": "3.8.18"
  }
 },
 "nbformat": 4,
 "nbformat_minor": 5
}

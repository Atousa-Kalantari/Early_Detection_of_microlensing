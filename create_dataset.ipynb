{
 "cells": [
  {
   "cell_type": "code",
   "execution_count": 2,
   "id": "7e163c78-22ed-47df-abee-6bba37dba452",
   "metadata": {},
   "outputs": [
    {
     "name": "stdout",
     "output_type": "stream",
     "text": [
      "Intel MKL WARNING: Support of Intel(R) Streaming SIMD Extensions 4.2 (Intel(R) SSE4.2) enabled only processors has been deprecated. Intel oneAPI Math Kernel Library 2025.0 will require Intel(R) Advanced Vector Extensions (Intel(R) AVX) instructions.\n",
      "Intel MKL WARNING: Support of Intel(R) Streaming SIMD Extensions 4.2 (Intel(R) SSE4.2) enabled only processors has been deprecated. Intel oneAPI Math Kernel Library 2025.0 will require Intel(R) Advanced Vector Extensions (Intel(R) AVX) instructions.\n"
     ]
    }
   ],
   "source": [
    "import numpy as np\n",
    "import matplotlib.pyplot as plt\n",
    "import pandas as pd\n",
    "import glob\n",
    "from tqdm import tqdm\n",
    "import random\n",
    "import pickle as pkl"
   ]
  },
  {
   "cell_type": "code",
   "execution_count": 3,
   "id": "ffa0731a-2831-411f-a9f5-52eb310079c5",
   "metadata": {},
   "outputs": [],
   "source": [
    "path = '/Users/somayeh/Research_Data/FULL_ELASTICC_TRAIN/CSV/'"
   ]
  },
  {
   "cell_type": "code",
   "execution_count": 88,
   "id": "9762221b-57bf-43b6-b8e2-2d5da2a76afb",
   "metadata": {},
   "outputs": [],
   "source": [
    "colors ={'u':\"#00c2f2\",\n",
    "         'g':\"#59b359\",\n",
    "         'r':\"#e51f00\",\n",
    "         'i':\"#502db3\",\n",
    "         'z':\"#ffaa00\",\n",
    "         'y':\"#f2b6de\"\n",
    "        }\n",
    "\n",
    "classes = ['uLens-Single',\n",
    "           'uLens-Binary']\n",
    "# ['Cepheid',\n",
    "#            'AGN',\n",
    "#            'RRL',\n",
    "#            'EB',\n",
    "#            'Mdwarf',\n",
    "           \n",
    "#            'CART',\n",
    "#            'SNIa',\n",
    "#            'SNIb',\n",
    "#            'SNIc',\n",
    "#            'd-Sct']\n",
    "           \n",
    "           "
   ]
  },
  {
   "cell_type": "code",
   "execution_count": 106,
   "id": "e852f05b-4afe-4d19-8aee-34c1182ad737",
   "metadata": {},
   "outputs": [
    {
     "name": "stderr",
     "output_type": "stream",
     "text": [
      "  0%|                                                                          | 0/2 [00:00<?, ?it/s]"
     ]
    },
    {
     "name": "stdout",
     "output_type": "stream",
     "text": [
      "uLens-Single\n",
      "17640\n"
     ]
    },
    {
     "name": "stderr",
     "output_type": "stream",
     "text": [
      " 50%|█████████████████████████████████                                 | 1/2 [00:19<00:19, 19.60s/it]"
     ]
    },
    {
     "name": "stdout",
     "output_type": "stream",
     "text": [
      "uLens-Binary\n",
      "4231\n"
     ]
    },
    {
     "name": "stderr",
     "output_type": "stream",
     "text": [
      "100%|██████████████████████████████████████████████████████████████████| 2/2 [00:24<00:00, 12.17s/it]\n"
     ]
    }
   ],
   "source": [
    "n_lc_per_class = 40000\n",
    "thresh = 3\n",
    "dict_all = {}\n",
    "random.seed(5)\n",
    "for c in tqdm(classes):\n",
    "    print(c)\n",
    "    dict_all[c] = {}\n",
    "    path_class = path+c+'/'\n",
    "    list_lc = glob.glob(path_class+'*')\n",
    "    if len(list_lc)<n_lc_per_class:\n",
    "        n_lc_per_class = len(list_lc)\n",
    "        print(n_lc_per_class)\n",
    "    lcs_path = random.sample(list_lc, n_lc_per_class)\n",
    "    for i, lc_path in enumerate(lcs_path):\n",
    "        df = pd.read_csv(lc_path)\n",
    "        # print(df.columns)\n",
    "        try:\n",
    "            df = df[(df.f/df.ferr)>thresh]\n",
    "        except AttributeError:\n",
    "            continue\n",
    "        if np.sum(df.groupby('b').size().values[1:])<20:\n",
    "            continue\n",
    "        dict_all[c][i] = df.values[:,1:]\n",
    "    \n",
    "    \n"
   ]
  },
  {
   "cell_type": "code",
   "execution_count": null,
   "id": "cc7c7cd4-0a7b-4961-9ab1-79cf71b9f8dd",
   "metadata": {},
   "outputs": [],
   "source": []
  },
  {
   "cell_type": "code",
   "execution_count": 107,
   "id": "f517dfc9-08d5-407f-b2ba-47d0d8b502ff",
   "metadata": {},
   "outputs": [],
   "source": [
    "pkl.dump(dict_all, open('all_data_muLens_larger_than_3sigma.pkl', 'wb'))"
   ]
  },
  {
   "cell_type": "code",
   "execution_count": 109,
   "id": "570002ee-a9f7-45d7-bad8-fb91698ddc89",
   "metadata": {},
   "outputs": [
    {
     "data": {
      "text/plain": [
       "6377"
      ]
     },
     "execution_count": 109,
     "metadata": {},
     "output_type": "execute_result"
    }
   ],
   "source": [
    "len(list(dict_all['uLens-Single'].keys()))"
   ]
  },
  {
   "cell_type": "code",
   "execution_count": 110,
   "id": "ef908f00-2cb1-40d0-a95a-c9eec913a9a5",
   "metadata": {},
   "outputs": [
    {
     "data": {
      "text/plain": [
       "['uLens-Single', 'uLens-Binary']"
      ]
     },
     "execution_count": 110,
     "metadata": {},
     "output_type": "execute_result"
    }
   ],
   "source": [
    "list(dict_all.keys())"
   ]
  },
  {
   "cell_type": "code",
   "execution_count": 117,
   "id": "bfc9974b-a7c5-4639-b289-efe933e381e2",
   "metadata": {},
   "outputs": [
    {
     "data": {
      "text/plain": [
       "Text(0, 0.5, 'Flux')"
      ]
     },
     "execution_count": 117,
     "metadata": {},
     "output_type": "execute_result"
    },
    {
     "data": {
      "image/png": "[encoded data removed]",
      "text/plain": [
       "<Figure size 640x480 with 1 Axes>"
      ]
     },
     "metadata": {},
     "output_type": "display_data"
    }
   ],
   "source": [
    "# Read an example light curve\n",
    "i = list(dict_all[labels[label_ind]].keys())[4]\n",
    "thresh = 3\n",
    "labels = list(dict_all.keys())\n",
    "label_ind = 1\n",
    "data = dict_all[labels[label_ind]][i]\n",
    "\n",
    "\n",
    "df = pd.DataFrame(data = data, columns=['t', 'f', 'ferr', 'b'])\n",
    "bands = np.unique(df['b'].values)\n",
    "\n",
    "for band in bands:    \n",
    "    df_b = df[df.b==band]\n",
    "    plt.errorbar(df_b.t, \n",
    "                 df_b.f, \n",
    "                 yerr = df_b.ferr,\n",
    "                 fmt = 'o',\n",
    "                 color = colors[band.strip()],\n",
    "                label = band)\n",
    "    # plt.plot(df_b.t[(df_b.f/df_b.ferr)>thresh],\n",
    "    #          df_b.f[(df_b.f/df_b.ferr)>thresh],\n",
    "    #          'o', color='orange')\n",
    "    \n",
    "plt.legend()\n",
    "plt.title(labels[label_ind])\n",
    "plt.xlabel('Time (mjd)')\n",
    "plt.ylabel('Flux')"
   ]
  }
 ],
 "metadata": {
  "kernelspec": {
   "display_name": "Python 3 (ipykernel)",
   "language": "python",
   "name": "python3"
  },
  "language_info": {
   "codemirror_mode": {
    "name": "ipython",
    "version": 3
   },
   "file_extension": ".py",
   "mimetype": "text/x-python",
   "name": "python",
   "nbconvert_exporter": "python",
   "pygments_lexer": "ipython3",
   "version": "3.8.18"
  }
 },
 "nbformat": 4,
 "nbformat_minor": 5
}

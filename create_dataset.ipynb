{
 "cells": [
  {
   "cell_type": "code",
   "execution_count": 61,
   "id": "7e163c78-22ed-47df-abee-6bba37dba452",
   "metadata": {},
   "outputs": [],
   "source": [
    "import numpy as np\n",
    "import matplotlib.pyplot as plt\n",
    "import pandas as pd\n",
    "import glob\n",
    "from tqdm import tqdm\n",
    "import random\n",
    "import pickle as pkl"
   ]
  },
  {
   "cell_type": "code",
   "execution_count": 62,
   "id": "ffa0731a-2831-411f-a9f5-52eb310079c5",
   "metadata": {},
   "outputs": [],
   "source": [
    "path = '/Users/somayeh/Research_Data/FULL_ELASTICC_TRAIN/CSV/'"
   ]
  },
  {
   "cell_type": "code",
   "execution_count": 63,
   "id": "9762221b-57bf-43b6-b8e2-2d5da2a76afb",
   "metadata": {},
   "outputs": [],
   "source": [
    "colors ={'u':\"#00c2f2\",\n",
    "         'g':\"#59b359\",\n",
    "         'r':\"#e51f00\",\n",
    "         'i':\"#502db3\",\n",
    "         'z':\"#ffaa00\",\n",
    "         'y':\"#f2b6de\"\n",
    "        }\n",
    "\n",
    "classes = ['Cepheid',\n",
    "           'AGN',\n",
    "           'RRL',\n",
    "           'EB',\n",
    "           'Mdwarf',\n",
    "           'uLens-Single',\n",
    "           'uLens-Binary',\n",
    "           'CART',\n",
    "           'SNIa',\n",
    "           'SNIb',\n",
    "           'SNIc',\n",
    "           'd-Sct']\n",
    "           \n",
    "           "
   ]
  },
  {
   "cell_type": "code",
   "execution_count": 73,
   "id": "e852f05b-4afe-4d19-8aee-34c1182ad737",
   "metadata": {},
   "outputs": [
    {
     "name": "stderr",
     "output_type": "stream",
     "text": [
      "  0%|                                                                         | 0/12 [00:00<?, ?it/s]"
     ]
    },
    {
     "name": "stdout",
     "output_type": "stream",
     "text": [
      "Cepheid\n"
     ]
    },
    {
     "name": "stderr",
     "output_type": "stream",
     "text": [
      "  8%|█████▍                                                           | 1/12 [00:04<00:46,  4.25s/it]"
     ]
    },
    {
     "name": "stdout",
     "output_type": "stream",
     "text": [
      "AGN\n"
     ]
    },
    {
     "name": "stderr",
     "output_type": "stream",
     "text": [
      " 17%|██████████▊                                                      | 2/12 [00:09<00:46,  4.66s/it]"
     ]
    },
    {
     "name": "stdout",
     "output_type": "stream",
     "text": [
      "RRL\n"
     ]
    },
    {
     "name": "stderr",
     "output_type": "stream",
     "text": [
      " 25%|████████████████▎                                                | 3/12 [00:13<00:39,  4.33s/it]"
     ]
    },
    {
     "name": "stdout",
     "output_type": "stream",
     "text": [
      "EB\n"
     ]
    },
    {
     "name": "stderr",
     "output_type": "stream",
     "text": [
      " 33%|█████████████████████▋                                           | 4/12 [00:18<00:36,  4.62s/it]"
     ]
    },
    {
     "name": "stdout",
     "output_type": "stream",
     "text": [
      "Mdwarf\n",
      "2625\n"
     ]
    },
    {
     "name": "stderr",
     "output_type": "stream",
     "text": [
      " 42%|███████████████████████████                                      | 5/12 [00:19<00:24,  3.57s/it]"
     ]
    },
    {
     "name": "stdout",
     "output_type": "stream",
     "text": [
      "uLens-Single\n"
     ]
    },
    {
     "name": "stderr",
     "output_type": "stream",
     "text": [
      " 50%|████████████████████████████████▌                                | 6/12 [00:22<00:18,  3.14s/it]"
     ]
    },
    {
     "name": "stdout",
     "output_type": "stream",
     "text": [
      "uLens-Binary\n"
     ]
    },
    {
     "name": "stderr",
     "output_type": "stream",
     "text": [
      " 58%|█████████████████████████████████████▉                           | 7/12 [00:24<00:13,  2.76s/it]"
     ]
    },
    {
     "name": "stdout",
     "output_type": "stream",
     "text": [
      "CART\n"
     ]
    },
    {
     "name": "stderr",
     "output_type": "stream",
     "text": [
      " 67%|███████████████████████████████████████████▎                     | 8/12 [00:26<00:10,  2.59s/it]"
     ]
    },
    {
     "name": "stdout",
     "output_type": "stream",
     "text": [
      "SNIa\n"
     ]
    },
    {
     "name": "stderr",
     "output_type": "stream",
     "text": [
      " 75%|████████████████████████████████████████████████▊                | 9/12 [00:29<00:08,  2.86s/it]"
     ]
    },
    {
     "name": "stdout",
     "output_type": "stream",
     "text": [
      "SNIb\n"
     ]
    },
    {
     "name": "stderr",
     "output_type": "stream",
     "text": [
      " 83%|█████████████████████████████████████████████████████▎          | 10/12 [00:32<00:05,  2.92s/it]"
     ]
    },
    {
     "name": "stdout",
     "output_type": "stream",
     "text": [
      "SNIc\n"
     ]
    },
    {
     "name": "stderr",
     "output_type": "stream",
     "text": [
      " 92%|██████████████████████████████████████████████████████████▋     | 11/12 [00:35<00:02,  2.93s/it]"
     ]
    },
    {
     "name": "stdout",
     "output_type": "stream",
     "text": [
      "d-Sct\n"
     ]
    },
    {
     "name": "stderr",
     "output_type": "stream",
     "text": [
      "100%|████████████████████████████████████████████████████████████████| 12/12 [00:38<00:00,  3.19s/it]\n"
     ]
    }
   ],
   "source": [
    "n_lc_per_class = 5000\n",
    "dict_all = {}\n",
    "for c in tqdm(classes):\n",
    "    print(c)\n",
    "    dict_all[c] = {}\n",
    "    path_class = path+c+'/'\n",
    "    list_lc = glob.glob(path_class+'*')\n",
    "    if len(list_lc)<n_lc_per_class:\n",
    "        n_lc_per_class = len(list_lc)\n",
    "        print(n_lc_per_class)\n",
    "    lcs_path = random.sample(list_lc, n_lc_per_class)\n",
    "    for i, lc_path in enumerate(lcs_path):\n",
    "        df = pd.read_csv(lc_path)\n",
    "        dict_all[c][i] = df.values[:,1:]\n",
    "    \n",
    "    \n"
   ]
  },
  {
   "cell_type": "code",
   "execution_count": 75,
   "id": "bb8a3d1b-eb98-47c9-bc54-49baf0f5d3a5",
   "metadata": {},
   "outputs": [
    {
     "data": {
      "text/plain": [
       "57625"
      ]
     },
     "execution_count": 75,
     "metadata": {},
     "output_type": "execute_result"
    }
   ],
   "source": []
  },
  {
   "cell_type": "code",
   "execution_count": 74,
   "id": "f517dfc9-08d5-407f-b2ba-47d0d8b502ff",
   "metadata": {},
   "outputs": [],
   "source": [
    "pkl.dump(dict_all, open('all_data.pkl', 'wb'))"
   ]
  },
  {
   "cell_type": "code",
   "execution_count": 81,
   "id": "570002ee-a9f7-45d7-bad8-fb91698ddc89",
   "metadata": {},
   "outputs": [
    {
     "data": {
      "text/plain": [
       "28"
      ]
     },
     "execution_count": 81,
     "metadata": {},
     "output_type": "execute_result"
    }
   ],
   "source": [
    "len(df[df.b=='i '])"
   ]
  },
  {
   "cell_type": "code",
   "execution_count": 82,
   "id": "bfc9974b-a7c5-4639-b289-efe933e381e2",
   "metadata": {},
   "outputs": [
    {
     "data": {
      "text/plain": [
       "Text(0, 0.5, 'Flux')"
      ]
     },
     "execution_count": 82,
     "metadata": {},
     "output_type": "execute_result"
    },
    {
     "data": {
      "image/png": "[encoded data removed]",
      "text/plain": [
       "<Figure size 640x480 with 1 Axes>"
      ]
     },
     "metadata": {},
     "output_type": "display_data"
    }
   ],
   "source": [
    "# Read an example light curve\n",
    "\n",
    "path_example = glob.glob(path+'uLens-Binary/*')[2]\n",
    "\n",
    "df = pd.read_csv(path_example, encoding = \"ISO-8859-1\")\n",
    "bands = np.unique(df['b'].values)\n",
    "\n",
    "for band in bands:    \n",
    "\n",
    "    plt.errorbar(df.t[df.b==band], \n",
    "                 df.f[df.b==band], \n",
    "                 yerr = df.ferr[df.b==band],\n",
    "                 fmt = 'o-',\n",
    "                 color = colors[band.strip()],\n",
    "                label = band)\n",
    "    \n",
    "plt.legend()\n",
    "plt.xlabel('Time (mjd)')\n",
    "plt.ylabel('Flux')"
   ]
  },
  {
   "cell_type": "code",
   "execution_count": 86,
   "id": "5dcddcf6-aaf6-4a71-a551-a90521c7b872",
   "metadata": {},
   "outputs": [
    {
     "data": {
      "text/plain": [
       "array([[6.03171239e+04, 2.72302440e+00, 3.39478560e+00],\n",
       "       [6.03510616e+04, 5.44229270e+00, 3.50173020e+00],\n",
       "       [6.03721486e+04, 2.64592530e+01, 3.85354400e+00],\n",
       "       [6.04000424e+04, 5.22058300e+00, 3.61224170e+00],\n",
       "       [6.06711857e+04, 1.02467630e-01, 2.81300140e+00]])"
      ]
     },
     "execution_count": 86,
     "metadata": {},
     "output_type": "execute_result"
    }
   ],
   "source": [
    "df[['t', 'f', 'ferr']][df.b=='g '].values[:5]"
   ]
  },
  {
   "cell_type": "code",
   "execution_count": null,
   "id": "5b9a9fbd-de9c-4450-b7d3-fe67231e1070",
   "metadata": {},
   "outputs": [],
   "source": []
  }
 ],
 "metadata": {
  "kernelspec": {
   "display_name": "Python 3 (ipykernel)",
   "language": "python",
   "name": "python3"
  },
  "language_info": {
   "codemirror_mode": {
    "name": "ipython",
    "version": 3
   },
   "file_extension": ".py",
   "mimetype": "text/x-python",
   "name": "python",
   "nbconvert_exporter": "python",
   "pygments_lexer": "ipython3",
   "version": "3.8.18"
  }
 },
 "nbformat": 4,
 "nbformat_minor": 5
}

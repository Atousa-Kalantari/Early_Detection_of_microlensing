{
 "cells": [
  {
   "cell_type": "code",
   "execution_count": 1,
   "id": "4ef13bf8-0699-4137-a9aa-aca2a33a66a1",
   "metadata": {},
   "outputs": [
    {
     "name": "stdout",
     "output_type": "stream",
     "text": [
      "Intel MKL WARNING: Support of Intel(R) Streaming SIMD Extensions 4.2 (Intel(R) SSE4.2) enabled only processors has been deprecated. Intel oneAPI Math Kernel Library 2025.0 will require Intel(R) Advanced Vector Extensions (Intel(R) AVX) instructions.\n",
      "Intel MKL WARNING: Support of Intel(R) Streaming SIMD Extensions 4.2 (Intel(R) SSE4.2) enabled only processors has been deprecated. Intel oneAPI Math Kernel Library 2025.0 will require Intel(R) Advanced Vector Extensions (Intel(R) AVX) instructions.\n"
     ]
    },
    {
     "name": "stderr",
     "output_type": "stream",
     "text": [
      "2024-04-18 11:46:33.739816: I tensorflow/core/platform/cpu_feature_guard.cc:193] This TensorFlow binary is optimized with oneAPI Deep Neural Network Library (oneDNN) to use the following CPU instructions in performance-critical operations:  SSE4.1 SSE4.2\n",
      "To enable them in other operations, rebuild TensorFlow with the appropriate compiler flags.\n"
     ]
    }
   ],
   "source": [
    "from utils import read_data\n",
    "import numpy as np\n",
    "import pickle as pkl\n",
    "from tqdm import tqdm\n",
    "import pandas as pd\n",
    "import random\n",
    "import matplotlib.pyplot as plt\n",
    "from models import AD1"
   ]
  },
  {
   "cell_type": "code",
   "execution_count": 2,
   "id": "64542257-29d5-4f64-9d31-99b5a287d638",
   "metadata": {},
   "outputs": [],
   "source": [
    "colors ={'u':\"#00c2f2\",\n",
    "         'g':\"#59b359\",\n",
    "         'r':\"#e51f00\",\n",
    "         'i':\"#502db3\",\n",
    "         'z':\"#ffaa00\",\n",
    "         'y':\"#f2b6de\"\n",
    "        }\n",
    "\n",
    "classes = ['uLens-Single',\n",
    "           'uLens-Binary']\n",
    "# ['Cepheid',\n",
    "#            'AGN',\n",
    "#            'RRL',\n",
    "#            'EB',\n",
    "#            'Mdwarf',\n",
    "#            'uLens-Single',\n",
    "#            'uLens-Binary',\n",
    "#            'CART',\n",
    "#            'SNIa',\n",
    "#            'SNIb',\n",
    "#            'SNIc',\n",
    "#            'd-Sct']"
   ]
  },
  {
   "cell_type": "code",
   "execution_count": 14,
   "id": "30104a7a-a168-4f40-926f-376e5473a237",
   "metadata": {},
   "outputs": [
    {
     "name": "stderr",
     "output_type": "stream",
     "text": [
      "2it [00:07,  3.95s/it]\n"
     ]
    }
   ],
   "source": [
    "# read the first 20 data points of the lightcurves in each of gri bands\n",
    "\n",
    "data, label = read_data(n_points = 5)"
   ]
  },
  {
   "cell_type": "code",
   "execution_count": 15,
   "id": "ecaf9196-1a49-4cf2-9a52-0a6ce69a77a0",
   "metadata": {},
   "outputs": [],
   "source": [
    "#split into train and test sets\n",
    "\n",
    "random.seed(10)\n",
    "data_size = len(label)\n",
    "shuffler = np.random.permutation(len(label))\n",
    "data = np.asarray(data)[shuffler]\n",
    "train_fract = 0.9\n",
    "train_size = int(train_fract*data_size)\n",
    "train_set = data[:train_size]\n",
    "train_label = np.asarray(label)[:train_size]\n",
    "\n",
    "test_set = data[train_size:]\n",
    "test_label = np.asarray(label)[train_size:]"
   ]
  },
  {
   "cell_type": "code",
   "execution_count": 16,
   "id": "a708b55c-7eb8-409f-86d9-4ee5044f544b",
   "metadata": {},
   "outputs": [
    {
     "data": {
      "text/plain": [
       "array([[[6.10033401e+04, 6.00099500e+02, 1.17260770e+01, 6.10223484e+04,\n",
       "         1.44504170e+03, 1.08436210e+01],\n",
       "        [6.10053080e+04, 6.50465500e+02, 8.55233800e+00, 6.10293504e+04,\n",
       "         1.88023680e+03, 1.75470430e+01],\n",
       "        [6.10313387e+04, 1.73599760e+03, 1.49259510e+01, 6.10462980e+04,\n",
       "         4.08407930e+03, 2.74028150e+01],\n",
       "        [6.10373344e+04, 2.23282470e+03, 1.40209640e+01, 6.10571864e+04,\n",
       "         7.16101200e+03, 3.60746150e+01],\n",
       "        [6.10393192e+04, 2.43599100e+03, 1.75950900e+01, 6.10623154e+04,\n",
       "         9.76086100e+03, 4.74489060e+01]],\n",
       "\n",
       "       [[6.07539967e+04, 2.50030540e+01, 7.79069760e+00, 6.09943590e+04,\n",
       "         1.61345640e+02, 1.33133920e+01],\n",
       "        [6.09743711e+04, 6.86623700e+01, 7.45700740e+00, 6.10123521e+04,\n",
       "         2.11295060e+02, 1.41094760e+01],\n",
       "        [6.09803680e+04, 7.26915400e+01, 7.92933230e+00, 6.10212983e+04,\n",
       "         2.66308800e+02, 8.85584200e+00],\n",
       "        [6.09973351e+04, 9.17082800e+01, 7.63620330e+00, 6.10233066e+04,\n",
       "         2.60322880e+02, 8.94279000e+00],\n",
       "        [6.10003430e+04, 1.02860504e+02, 7.33231400e+00, 6.10482278e+04,\n",
       "         3.70515260e+02, 1.53882900e+01]],\n",
       "\n",
       "       [[6.03824058e+04, 2.78795780e+01, 6.91888570e+00, 6.04013279e+04,\n",
       "         2.56721360e+01, 6.87383370e+00],\n",
       "        [6.04143426e+04, 2.19824310e+01, 4.70368770e+00, 6.04153104e+04,\n",
       "         3.08578030e+01, 7.74905970e+00],\n",
       "        [6.04152938e+04, 2.62115250e+01, 6.06675530e+00, 6.04322443e+04,\n",
       "         3.74799500e+01, 8.48816800e+00],\n",
       "        [6.04323024e+04, 2.26377070e+01, 4.24244070e+00, 6.04323187e+04,\n",
       "         2.82322160e+01, 6.11637740e+00],\n",
       "        [6.04462643e+04, 2.90026230e+01, 3.76477890e+00, 6.04462889e+04,\n",
       "         2.48712830e+01, 7.98015100e+00]],\n",
       "\n",
       "       ...,\n",
       "\n",
       "       [[6.10003411e+04, 3.24062400e+01, 6.03398750e+00, 6.10113402e+04,\n",
       "         3.98348270e+01, 8.09771500e+00],\n",
       "        [6.10033420e+04, 3.13643910e+01, 6.30570130e+00, 6.10223304e+04,\n",
       "         1.04478600e+02, 8.36983100e+00],\n",
       "        [6.10053372e+04, 3.15932980e+01, 6.12215800e+00, 6.10253335e+04,\n",
       "         9.35444640e+01, 9.04563500e+00],\n",
       "        [6.10093534e+04, 2.84075760e+01, 6.65041640e+00, 6.10402654e+04,\n",
       "         2.00341660e+02, 7.43483160e+00],\n",
       "        [6.10333285e+04, 1.00935776e+02, 6.47234100e+00, 6.10482214e+04,\n",
       "         2.99560330e+02, 1.16263790e+01]],\n",
       "\n",
       "       [[6.06483017e+04, 1.79450070e+02, 5.74942300e+00, 6.06512842e+04,\n",
       "         3.54308040e+02, 7.74771800e+00],\n",
       "        [6.06513017e+04, 1.87826860e+02, 4.86480470e+00, 6.06742492e+04,\n",
       "         6.18169560e+02, 8.33903100e+00],\n",
       "        [6.06712140e+04, 3.20112120e+02, 5.56639400e+00, 6.06861646e+04,\n",
       "         4.54538240e+02, 1.30124270e+01],\n",
       "        [6.06742328e+04, 3.18948030e+02, 5.67558240e+00, 6.06943272e+04,\n",
       "         3.35213400e+02, 9.84469100e+00],\n",
       "        [6.06782191e+04, 3.05627870e+02, 5.02654360e+00, 6.06971738e+04,\n",
       "         3.00985630e+02, 7.75449470e+00]],\n",
       "\n",
       "       [[6.07714000e+04, 6.66390300e+01, 4.60876660e+00, 6.07513056e+04,\n",
       "         8.33081360e+01, 1.40361040e+01],\n",
       "        [6.07894047e+04, 1.11300520e+02, 4.37523030e+00, 6.07944242e+04,\n",
       "         1.97132350e+02, 9.35268900e+00],\n",
       "        [6.07932831e+04, 1.32105710e+02, 5.10903500e+00, 6.08031700e+04,\n",
       "         2.29254440e+02, 9.88921500e+00],\n",
       "        [6.08242255e+04, 1.39313890e+02, 5.40536000e+00, 6.08293742e+04,\n",
       "         2.11775960e+02, 9.55460700e+00],\n",
       "        [6.08252866e+04, 1.30888000e+02, 5.46034900e+00, 6.08302017e+04,\n",
       "         2.17510060e+02, 7.61810870e+00]]])"
      ]
     },
     "execution_count": 16,
     "metadata": {},
     "output_type": "execute_result"
    }
   ],
   "source": [
    "data"
   ]
  },
  {
   "cell_type": "code",
   "execution_count": 17,
   "id": "cdf47f2a-26f8-4b5f-91a7-c64c64485bd5",
   "metadata": {},
   "outputs": [
    {
     "data": {
      "text/plain": [
       "Text(0, 0.5, 'Flux')"
      ]
     },
     "execution_count": 17,
     "metadata": {},
     "output_type": "execute_result"
    },
    {
     "data": {
      "image/png": "[encoded data removed]",
      "text/plain": [
       "<Figure size 640x480 with 1 Axes>"
      ]
     },
     "metadata": {},
     "output_type": "display_data"
    }
   ],
   "source": [
    "# Read an example light curve\n",
    "\n",
    "class_ind = 0\n",
    "ind = 8\n",
    "\n",
    "f = train_set[train_label == class_ind][ind]\n",
    "# print(f[:,0])\n",
    "\n",
    "\n",
    "for b, band in enumerate(['r', 'i']):    \n",
    "\n",
    "    plt.errorbar(f[:,3*b],\n",
    "                 f[:,3*b+1],\n",
    "                 yerr = f[:,3*b+2],\n",
    "                 fmt = 'o-',\n",
    "                 color = colors[band],\n",
    "                 label = band)\n",
    "    \n",
    "plt.legend()\n",
    "plt.title(classes[class_ind])\n",
    "plt.xlabel('Time (mjd)')\n",
    "plt.ylabel('Flux')"
   ]
  },
  {
   "cell_type": "code",
   "execution_count": 18,
   "id": "f68de049-556f-43d6-a574-1bf112d1b7dd",
   "metadata": {},
   "outputs": [],
   "source": []
  },
  {
   "cell_type": "code",
   "execution_count": 20,
   "id": "43a89837-a09f-4200-a3c9-8d92489a5c5b",
   "metadata": {},
   "outputs": [
    {
     "data": {
      "text/plain": [
       "0"
      ]
     },
     "execution_count": 20,
     "metadata": {},
     "output_type": "execute_result"
    }
   ],
   "source": [
    "np.sum(np.isnan(data))"
   ]
  },
  {
   "cell_type": "code",
   "execution_count": 29,
   "id": "4bcbba83-2f39-4149-b1ae-61fba69215e3",
   "metadata": {},
   "outputs": [
    {
     "name": "stderr",
     "output_type": "stream",
     "text": [
      "2024-04-17 16:53:05.681082: I tensorflow/core/platform/cpu_feature_guard.cc:193] This TensorFlow binary is optimized with oneAPI Deep Neural Network Library (oneDNN) to use the following CPU instructions in performance-critical operations:  SSE4.1 SSE4.2\n",
      "To enable them in other operations, rebuild TensorFlow with the appropriate compiler flags.\n"
     ]
    },
    {
     "ename": "TypeError",
     "evalue": "('Keyword argument not understood:', 'strides')",
     "output_type": "error",
     "traceback": [
      "\u001b[0;31m---------------------------------------------------------------------------\u001b[0m",
      "\u001b[0;31mTypeError\u001b[0m                                 Traceback (most recent call last)",
      "Cell \u001b[0;32mIn[29], line 1\u001b[0m\n\u001b[0;32m----> 1\u001b[0m model \u001b[38;5;241m=\u001b[39m \u001b[43mAD1\u001b[49m\u001b[43m(\u001b[49m\u001b[43m)\u001b[49m\n\u001b[1;32m      2\u001b[0m opt \u001b[38;5;241m=\u001b[39m tf\u001b[38;5;241m.\u001b[39mkeras\u001b[38;5;241m.\u001b[39moptimizers\u001b[38;5;241m.\u001b[39mAdam(learning_rate\u001b[38;5;241m=\u001b[39m\u001b[38;5;241m0.000001\u001b[39m)\n\u001b[1;32m      3\u001b[0m model\u001b[38;5;241m.\u001b[39mcompile(optimizer \u001b[38;5;241m=\u001b[39m opt , loss\u001b[38;5;241m=\u001b[39mtf\u001b[38;5;241m.\u001b[39mkeras\u001b[38;5;241m.\u001b[39mlosses\u001b[38;5;241m.\u001b[39mCategoricalCrossentropy(from_logits\u001b[38;5;241m=\u001b[39m\u001b[38;5;28;01mTrue\u001b[39;00m),\n\u001b[1;32m      4\u001b[0m                metrics\u001b[38;5;241m=\u001b[39m[\u001b[38;5;124m'\u001b[39m\u001b[38;5;124maccuracy\u001b[39m\u001b[38;5;124m'\u001b[39m])\n",
      "File \u001b[0;32m~/Library/Mobile Documents/com~apple~CloudDocs/Research/CfA_hackathon_anomalous_microlensing/models.py:24\u001b[0m, in \u001b[0;36mAD1\u001b[0;34m(input_shape, z_size)\u001b[0m\n\u001b[1;32m     22\u001b[0m model\u001b[38;5;241m.\u001b[39madd(Conv1D(\u001b[38;5;241m1\u001b[39m, \u001b[38;5;241m1\u001b[39m, activation\u001b[38;5;241m=\u001b[39m\u001b[38;5;124m'\u001b[39m\u001b[38;5;124mrelu\u001b[39m\u001b[38;5;124m'\u001b[39m, strides\u001b[38;5;241m=\u001b[39m\u001b[38;5;241m1\u001b[39m, padding\u001b[38;5;241m=\u001b[39m\u001b[38;5;124m\"\u001b[39m\u001b[38;5;124msame\u001b[39m\u001b[38;5;124m\"\u001b[39m))\n\u001b[1;32m     23\u001b[0m model\u001b[38;5;241m.\u001b[39madd(Flatten())\n\u001b[0;32m---> 24\u001b[0m model\u001b[38;5;241m.\u001b[39madd(\u001b[43mDense\u001b[49m\u001b[43m(\u001b[49m\u001b[43mz_size\u001b[49m\u001b[43m,\u001b[49m\u001b[43m \u001b[49m\u001b[43mactivation\u001b[49m\u001b[38;5;241;43m=\u001b[39;49m\u001b[38;5;124;43m'\u001b[39;49m\u001b[38;5;124;43mrelu\u001b[39;49m\u001b[38;5;124;43m'\u001b[39;49m\u001b[43m,\u001b[49m\u001b[43m \u001b[49m\u001b[43mstrides\u001b[49m\u001b[38;5;241;43m=\u001b[39;49m\u001b[38;5;241;43m1\u001b[39;49m\u001b[43m,\u001b[49m\u001b[43m \u001b[49m\u001b[43mpadding\u001b[49m\u001b[38;5;241;43m=\u001b[39;49m\u001b[38;5;124;43m\"\u001b[39;49m\u001b[38;5;124;43msame\u001b[39;49m\u001b[38;5;124;43m\"\u001b[39;49m\u001b[43m)\u001b[49m)\n\u001b[1;32m     26\u001b[0m model\u001b[38;5;241m.\u001b[39madd(Dense(input_shape[\u001b[38;5;241m0\u001b[39m]\u001b[38;5;241m/\u001b[39m\u001b[38;5;241m/\u001b[39m\u001b[38;5;241m2\u001b[39m\u001b[38;5;241m/\u001b[39m\u001b[38;5;241m/\u001b[39m\u001b[38;5;241m2\u001b[39m\u001b[38;5;241m/\u001b[39m\u001b[38;5;241m/\u001b[39m\u001b[38;5;241m2\u001b[39m, activation\u001b[38;5;241m=\u001b[39m\u001b[38;5;124m'\u001b[39m\u001b[38;5;124mrelu\u001b[39m\u001b[38;5;124m'\u001b[39m, strides\u001b[38;5;241m=\u001b[39m\u001b[38;5;241m1\u001b[39m, padding\u001b[38;5;241m=\u001b[39m\u001b[38;5;124m\"\u001b[39m\u001b[38;5;124msame\u001b[39m\u001b[38;5;124m\"\u001b[39m))\n\u001b[1;32m     28\u001b[0m model\u001b[38;5;241m.\u001b[39madd(Conv1DTranspose(\u001b[38;5;241m64\u001b[39m, \u001b[38;5;241m3\u001b[39m, activation\u001b[38;5;241m=\u001b[39m\u001b[38;5;124m'\u001b[39m\u001b[38;5;124mrelu\u001b[39m\u001b[38;5;124m'\u001b[39m, strides\u001b[38;5;241m=\u001b[39m\u001b[38;5;241m1\u001b[39m, padding\u001b[38;5;241m=\u001b[39m\u001b[38;5;124m\"\u001b[39m\u001b[38;5;124msame\u001b[39m\u001b[38;5;124m\"\u001b[39m))\n",
      "File \u001b[0;32m~/opt/anaconda3/envs/pyt38/lib/python3.8/site-packages/keras/dtensor/utils.py:96\u001b[0m, in \u001b[0;36mallow_initializer_layout.<locals>._wrap_function\u001b[0;34m(layer_instance, *args, **kwargs)\u001b[0m\n\u001b[1;32m     93\u001b[0m         \u001b[38;5;28;01mif\u001b[39;00m layout:\n\u001b[1;32m     94\u001b[0m             layout_args[variable_name \u001b[38;5;241m+\u001b[39m \u001b[38;5;124m\"\u001b[39m\u001b[38;5;124m_layout\u001b[39m\u001b[38;5;124m\"\u001b[39m] \u001b[38;5;241m=\u001b[39m layout\n\u001b[0;32m---> 96\u001b[0m \u001b[43minit_method\u001b[49m\u001b[43m(\u001b[49m\u001b[43mlayer_instance\u001b[49m\u001b[43m,\u001b[49m\u001b[43m \u001b[49m\u001b[38;5;241;43m*\u001b[39;49m\u001b[43margs\u001b[49m\u001b[43m,\u001b[49m\u001b[43m \u001b[49m\u001b[38;5;241;43m*\u001b[39;49m\u001b[38;5;241;43m*\u001b[39;49m\u001b[43mkwargs\u001b[49m\u001b[43m)\u001b[49m\n\u001b[1;32m     98\u001b[0m \u001b[38;5;66;03m# Inject the layout parameter after the invocation of __init__()\u001b[39;00m\n\u001b[1;32m     99\u001b[0m \u001b[38;5;28;01mfor\u001b[39;00m layout_param_name, layout \u001b[38;5;129;01min\u001b[39;00m layout_args\u001b[38;5;241m.\u001b[39mitems():\n",
      "File \u001b[0;32m~/opt/anaconda3/envs/pyt38/lib/python3.8/site-packages/keras/layers/core/dense.py:117\u001b[0m, in \u001b[0;36mDense.__init__\u001b[0;34m(self, units, activation, use_bias, kernel_initializer, bias_initializer, kernel_regularizer, bias_regularizer, activity_regularizer, kernel_constraint, bias_constraint, **kwargs)\u001b[0m\n\u001b[1;32m    102\u001b[0m \u001b[38;5;129m@utils\u001b[39m\u001b[38;5;241m.\u001b[39mallow_initializer_layout\n\u001b[1;32m    103\u001b[0m \u001b[38;5;28;01mdef\u001b[39;00m \u001b[38;5;21m__init__\u001b[39m(\n\u001b[1;32m    104\u001b[0m     \u001b[38;5;28mself\u001b[39m,\n\u001b[0;32m   (...)\u001b[0m\n\u001b[1;32m    115\u001b[0m     \u001b[38;5;241m*\u001b[39m\u001b[38;5;241m*\u001b[39mkwargs,\n\u001b[1;32m    116\u001b[0m ):\n\u001b[0;32m--> 117\u001b[0m     \u001b[38;5;28;43msuper\u001b[39;49m\u001b[43m(\u001b[49m\u001b[43m)\u001b[49m\u001b[38;5;241;43m.\u001b[39;49m\u001b[38;5;21;43m__init__\u001b[39;49m\u001b[43m(\u001b[49m\u001b[43mactivity_regularizer\u001b[49m\u001b[38;5;241;43m=\u001b[39;49m\u001b[43mactivity_regularizer\u001b[49m\u001b[43m,\u001b[49m\u001b[43m \u001b[49m\u001b[38;5;241;43m*\u001b[39;49m\u001b[38;5;241;43m*\u001b[39;49m\u001b[43mkwargs\u001b[49m\u001b[43m)\u001b[49m\n\u001b[1;32m    119\u001b[0m     \u001b[38;5;28mself\u001b[39m\u001b[38;5;241m.\u001b[39munits \u001b[38;5;241m=\u001b[39m \u001b[38;5;28mint\u001b[39m(units) \u001b[38;5;28;01mif\u001b[39;00m \u001b[38;5;129;01mnot\u001b[39;00m \u001b[38;5;28misinstance\u001b[39m(units, \u001b[38;5;28mint\u001b[39m) \u001b[38;5;28;01melse\u001b[39;00m units\n\u001b[1;32m    120\u001b[0m     \u001b[38;5;28;01mif\u001b[39;00m \u001b[38;5;28mself\u001b[39m\u001b[38;5;241m.\u001b[39munits \u001b[38;5;241m<\u001b[39m \u001b[38;5;241m0\u001b[39m:\n",
      "File \u001b[0;32m~/opt/anaconda3/envs/pyt38/lib/python3.8/site-packages/tensorflow/python/trackable/base.py:205\u001b[0m, in \u001b[0;36mno_automatic_dependency_tracking.<locals>._method_wrapper\u001b[0;34m(self, *args, **kwargs)\u001b[0m\n\u001b[1;32m    203\u001b[0m \u001b[38;5;28mself\u001b[39m\u001b[38;5;241m.\u001b[39m_self_setattr_tracking \u001b[38;5;241m=\u001b[39m \u001b[38;5;28;01mFalse\u001b[39;00m  \u001b[38;5;66;03m# pylint: disable=protected-access\u001b[39;00m\n\u001b[1;32m    204\u001b[0m \u001b[38;5;28;01mtry\u001b[39;00m:\n\u001b[0;32m--> 205\u001b[0m   result \u001b[38;5;241m=\u001b[39m \u001b[43mmethod\u001b[49m\u001b[43m(\u001b[49m\u001b[38;5;28;43mself\u001b[39;49m\u001b[43m,\u001b[49m\u001b[43m \u001b[49m\u001b[38;5;241;43m*\u001b[39;49m\u001b[43margs\u001b[49m\u001b[43m,\u001b[49m\u001b[43m \u001b[49m\u001b[38;5;241;43m*\u001b[39;49m\u001b[38;5;241;43m*\u001b[39;49m\u001b[43mkwargs\u001b[49m\u001b[43m)\u001b[49m\n\u001b[1;32m    206\u001b[0m \u001b[38;5;28;01mfinally\u001b[39;00m:\n\u001b[1;32m    207\u001b[0m   \u001b[38;5;28mself\u001b[39m\u001b[38;5;241m.\u001b[39m_self_setattr_tracking \u001b[38;5;241m=\u001b[39m previous_value  \u001b[38;5;66;03m# pylint: disable=protected-access\u001b[39;00m\n",
      "File \u001b[0;32m~/opt/anaconda3/envs/pyt38/lib/python3.8/site-packages/keras/engine/base_layer.py:335\u001b[0m, in \u001b[0;36mLayer.__init__\u001b[0;34m(self, trainable, name, dtype, dynamic, **kwargs)\u001b[0m\n\u001b[1;32m    324\u001b[0m allowed_kwargs \u001b[38;5;241m=\u001b[39m {\n\u001b[1;32m    325\u001b[0m     \u001b[38;5;124m\"\u001b[39m\u001b[38;5;124minput_dim\u001b[39m\u001b[38;5;124m\"\u001b[39m,\n\u001b[1;32m    326\u001b[0m     \u001b[38;5;124m\"\u001b[39m\u001b[38;5;124minput_shape\u001b[39m\u001b[38;5;124m\"\u001b[39m,\n\u001b[0;32m   (...)\u001b[0m\n\u001b[1;32m    332\u001b[0m     \u001b[38;5;124m\"\u001b[39m\u001b[38;5;124mimplementation\u001b[39m\u001b[38;5;124m\"\u001b[39m,\n\u001b[1;32m    333\u001b[0m }\n\u001b[1;32m    334\u001b[0m \u001b[38;5;66;03m# Validate optional keyword arguments.\u001b[39;00m\n\u001b[0;32m--> 335\u001b[0m \u001b[43mgeneric_utils\u001b[49m\u001b[38;5;241;43m.\u001b[39;49m\u001b[43mvalidate_kwargs\u001b[49m\u001b[43m(\u001b[49m\u001b[43mkwargs\u001b[49m\u001b[43m,\u001b[49m\u001b[43m \u001b[49m\u001b[43mallowed_kwargs\u001b[49m\u001b[43m)\u001b[49m\n\u001b[1;32m    337\u001b[0m \u001b[38;5;66;03m# Mutable properties\u001b[39;00m\n\u001b[1;32m    338\u001b[0m \u001b[38;5;66;03m# Indicates whether the layer's weights are updated during training\u001b[39;00m\n\u001b[1;32m    339\u001b[0m \u001b[38;5;66;03m# and whether the layer's updates are run during training.\u001b[39;00m\n\u001b[1;32m    340\u001b[0m \u001b[38;5;28;01mif\u001b[39;00m \u001b[38;5;129;01mnot\u001b[39;00m (\n\u001b[1;32m    341\u001b[0m     \u001b[38;5;28misinstance\u001b[39m(trainable, \u001b[38;5;28mbool\u001b[39m)\n\u001b[1;32m    342\u001b[0m     \u001b[38;5;129;01mor\u001b[39;00m (\n\u001b[0;32m   (...)\u001b[0m\n\u001b[1;32m    345\u001b[0m     )\n\u001b[1;32m    346\u001b[0m ):\n",
      "File \u001b[0;32m~/opt/anaconda3/envs/pyt38/lib/python3.8/site-packages/keras/utils/generic_utils.py:1269\u001b[0m, in \u001b[0;36mvalidate_kwargs\u001b[0;34m(kwargs, allowed_kwargs, error_message)\u001b[0m\n\u001b[1;32m   1267\u001b[0m \u001b[38;5;28;01mfor\u001b[39;00m kwarg \u001b[38;5;129;01min\u001b[39;00m kwargs:\n\u001b[1;32m   1268\u001b[0m     \u001b[38;5;28;01mif\u001b[39;00m kwarg \u001b[38;5;129;01mnot\u001b[39;00m \u001b[38;5;129;01min\u001b[39;00m allowed_kwargs:\n\u001b[0;32m-> 1269\u001b[0m         \u001b[38;5;28;01mraise\u001b[39;00m \u001b[38;5;167;01mTypeError\u001b[39;00m(error_message, kwarg)\n",
      "\u001b[0;31mTypeError\u001b[0m: ('Keyword argument not understood:', 'strides')"
     ]
    }
   ],
   "source": [
    "model = AD1()\n",
    "opt = tf.keras.optimizers.Adam(learning_rate=0.000001)\n",
    "model.compile(optimizer = opt , loss=tf.keras.losses.CategoricalCrossentropy(from_logits=True),\n",
    "               metrics=['accuracy'])"
   ]
  },
  {
   "cell_type": "code",
   "execution_count": null,
   "id": "5b2e823d-74e3-4a86-95ef-7d9fe267fab9",
   "metadata": {},
   "outputs": [],
   "source": [
    "# Training parameters\n",
    "batch_size = 16 # number of events per epoch\n",
    "num_epochs = 5000 # number of epochs\n",
    "validation_split = 0.2 # fraction of the training set that is for validation only"
   ]
  },
  {
   "cell_type": "code",
   "execution_count": null,
   "id": "60bf39cf-9fe9-41f9-8b39-335bff931ee5",
   "metadata": {},
   "outputs": [],
   "source": [
    "callback = keras.callbacks.EarlyStopping(monitor='val_loss', min_delta = 0.00001,\n",
    "                                              patience=5)\n",
    "history = model.fit(train_set, train_set, \n",
    "                    batch_size=batch_size, \n",
    "                    epochs=num_epochs, \n",
    "                    validation_split=validation_split, \n",
    "                    verbose=True)"
   ]
  }
 ],
 "metadata": {
  "kernelspec": {
   "display_name": "Python 3 (ipykernel)",
   "language": "python",
   "name": "python3"
  },
  "language_info": {
   "codemirror_mode": {
    "name": "ipython",
    "version": 3
   },
   "file_extension": ".py",
   "mimetype": "text/x-python",
   "name": "python",
   "nbconvert_exporter": "python",
   "pygments_lexer": "ipython3",
   "version": "3.8.18"
  }
 },
 "nbformat": 4,
 "nbformat_minor": 5
}

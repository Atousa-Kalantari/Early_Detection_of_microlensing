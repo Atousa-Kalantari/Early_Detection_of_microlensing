{
 "cells": [
  {
   "cell_type": "code",
   "execution_count": 1,
   "id": "4ef13bf8-0699-4137-a9aa-aca2a33a66a1",
   "metadata": {},
   "outputs": [
    {
     "name": "stdout",
     "output_type": "stream",
     "text": [
      "Intel MKL WARNING: Support of Intel(R) Streaming SIMD Extensions 4.2 (Intel(R) SSE4.2) enabled only processors has been deprecated. Intel oneAPI Math Kernel Library 2025.0 will require Intel(R) Advanced Vector Extensions (Intel(R) AVX) instructions.\n",
      "Intel MKL WARNING: Support of Intel(R) Streaming SIMD Extensions 4.2 (Intel(R) SSE4.2) enabled only processors has been deprecated. Intel oneAPI Math Kernel Library 2025.0 will require Intel(R) Advanced Vector Extensions (Intel(R) AVX) instructions.\n"
     ]
    },
    {
     "name": "stderr",
     "output_type": "stream",
     "text": [
      "2024-04-08 23:59:15.572553: I tensorflow/core/platform/cpu_feature_guard.cc:193] This TensorFlow binary is optimized with oneAPI Deep Neural Network Library (oneDNN) to use the following CPU instructions in performance-critical operations:  SSE4.1 SSE4.2\n",
      "To enable them in other operations, rebuild TensorFlow with the appropriate compiler flags.\n"
     ]
    }
   ],
   "source": [
    "from utils import read_data\n",
    "import numpy as np\n",
    "import pickle as pkl\n",
    "from tqdm import tqdm\n",
    "import pandas as pd\n",
    "import random\n",
    "import matplotlib.pyplot as plt\n",
    "from models import AD1"
   ]
  },
  {
   "cell_type": "code",
   "execution_count": 2,
   "id": "64542257-29d5-4f64-9d31-99b5a287d638",
   "metadata": {},
   "outputs": [],
   "source": [
    "colors ={'u':\"#00c2f2\",\n",
    "         'g':\"#59b359\",\n",
    "         'r':\"#e51f00\",\n",
    "         'i':\"#502db3\",\n",
    "         'z':\"#ffaa00\",\n",
    "         'y':\"#f2b6de\"\n",
    "        }\n",
    "\n",
    "classes = ['Cepheid',\n",
    "           'AGN',\n",
    "           'RRL',\n",
    "           'EB',\n",
    "           'Mdwarf',\n",
    "           'uLens-Single',\n",
    "           'uLens-Binary',\n",
    "           'CART',\n",
    "           'SNIa',\n",
    "           'SNIb',\n",
    "           'SNIc',\n",
    "           'd-Sct']"
   ]
  },
  {
   "cell_type": "code",
   "execution_count": 3,
   "id": "30104a7a-a168-4f40-926f-376e5473a237",
   "metadata": {},
   "outputs": [
    {
     "name": "stderr",
     "output_type": "stream",
     "text": [
      "1it [00:07,  7.57s/it]"
     ]
    },
    {
     "name": "stdout",
     "output_type": "stream",
     "text": [
      "Cepheid 3219 []\n",
      "Cepheid 3219 []\n",
      "Cepheid 3219 []\n",
      "Cepheid 4263 []\n",
      "Cepheid 4263 []\n",
      "Cepheid 4263 []\n"
     ]
    },
    {
     "name": "stderr",
     "output_type": "stream",
     "text": [
      "12it [01:02,  5.25s/it]\n"
     ]
    }
   ],
   "source": [
    "# read the first 20 data points of the lightcurves in each of gri bands\n",
    "\n",
    "data, label = read_data(n_points = 20)"
   ]
  },
  {
   "cell_type": "code",
   "execution_count": 4,
   "id": "ecaf9196-1a49-4cf2-9a52-0a6ce69a77a0",
   "metadata": {},
   "outputs": [],
   "source": [
    "#split into train and test sets\n",
    "\n",
    "random.seed(10)\n",
    "data_size = len(label)\n",
    "shuffler = np.random.permutation(len(label))\n",
    "data = np.asarray(data)[shuffler]\n",
    "train_fract = 0.9\n",
    "train_size = int(train_fract*data_size)\n",
    "train_set = data[:train_size]\n",
    "train_label = np.asarray(label)[:train_size]\n",
    "\n",
    "test_set = data[train_size:]\n",
    "test_label = np.asarray(label)[train_size:]"
   ]
  },
  {
   "cell_type": "code",
   "execution_count": 8,
   "id": "cdf47f2a-26f8-4b5f-91a7-c64c64485bd5",
   "metadata": {},
   "outputs": [
    {
     "data": {
      "text/plain": [
       "Text(0, 0.5, 'Flux')"
      ]
     },
     "execution_count": 8,
     "metadata": {},
     "output_type": "execute_result"
    },
    {
     "data": {
      "image/png": "[encoded data removed]",
      "text/plain": [
       "<Figure size 640x480 with 1 Axes>"
      ]
     },
     "metadata": {},
     "output_type": "display_data"
    }
   ],
   "source": [
    "# Read an example light curve\n",
    "\n",
    "class_ind = 5\n",
    "ind = 6\n",
    "\n",
    "f = train_set[train_label == class_ind][ind]\n",
    "# print(f[:,0])\n",
    "\n",
    "\n",
    "for b, band in enumerate(['g', 'r', 'i']):    \n",
    "\n",
    "    plt.errorbar(f[:,3*b],\n",
    "                 f[:,3*b+1],\n",
    "                 yerr = f[:,3*b+2],\n",
    "                 fmt = 'o-',\n",
    "                 color = colors[band],\n",
    "                 label = band)\n",
    "    \n",
    "plt.legend()\n",
    "plt.title(classes[class_ind])\n",
    "plt.xlabel('Time (mjd)')\n",
    "plt.ylabel('Flux')"
   ]
  },
  {
   "cell_type": "code",
   "execution_count": 10,
   "id": "4bcbba83-2f39-4149-b1ae-61fba69215e3",
   "metadata": {},
   "outputs": [],
   "source": [
    "model = AD1()\n",
    "opt = tf.keras.optimizers.Adam(learning_rate=0.000001)\n",
    "model.compile(optimizer = opt , loss=tf.keras.losses.CategoricalCrossentropy(from_logits=True),\n",
    "               metrics=['accuracy'])"
   ]
  },
  {
   "cell_type": "code",
   "execution_count": null,
   "id": "5b2e823d-74e3-4a86-95ef-7d9fe267fab9",
   "metadata": {},
   "outputs": [],
   "source": [
    "# Training parameters\n",
    "batch_size = 16 # number of events per epoch\n",
    "num_epochs = 5000 # number of epochs\n",
    "validation_split = 0.2 # fraction of the training set that is for validation only"
   ]
  },
  {
   "cell_type": "code",
   "execution_count": null,
   "id": "60bf39cf-9fe9-41f9-8b39-335bff931ee5",
   "metadata": {},
   "outputs": [],
   "source": [
    "callback = keras.callbacks.EarlyStopping(monitor='val_loss', min_delta = 0.00001,\n",
    "                                              patience=5)\n",
    "history = model.fit(train_set, train_set, \n",
    "                    batch_size=batch_size, \n",
    "                    epochs=num_epochs, \n",
    "                    validation_split=validation_split, \n",
    "                    verbose=True)"
   ]
  }
 ],
 "metadata": {
  "kernelspec": {
   "display_name": "Python 3 (ipykernel)",
   "language": "python",
   "name": "python3"
  },
  "language_info": {
   "codemirror_mode": {
    "name": "ipython",
    "version": 3
   },
   "file_extension": ".py",
   "mimetype": "text/x-python",
   "name": "python",
   "nbconvert_exporter": "python",
   "pygments_lexer": "ipython3",
   "version": "3.8.18"
  }
 },
 "nbformat": 4,
 "nbformat_minor": 5
}
